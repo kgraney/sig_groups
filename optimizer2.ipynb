{
 "cells": [
  {
   "cell_type": "markdown",
   "metadata": {
    "id": "Kx_IOzBMbTG2"
   },
   "source": [
    "## Setup / Install"
   ]
  },
  {
   "cell_type": "code",
   "execution_count": null,
   "metadata": {
    "id": "AJ3n3DT5sRJQ"
   },
   "outputs": [],
   "source": [
    "import matplotlib.pyplot as plt\n",
    "import pandas as pd\n",
    "import numpy as np\n",
    "from collections import defaultdict"
   ]
  },
  {
   "cell_type": "code",
   "execution_count": null,
   "metadata": {
    "id": "ZYXaph-GbPBb"
   },
   "outputs": [],
   "source": [
    "import sys\n",
    "sys.path.insert(1, '/usr/local/google/home/kmg/')\n",
    "sys.path.insert(1, '/mnt/c/Users/Kevin Graney/SIG Groupings/')\n",
    "\n",
    "from sig_groups.rider import Leader, Participant, RiderData, Match\n",
    "from sig_groups.airtable import AirtableClient\n",
    "from sig_groups.formatting import PrintAvailabilityTable, PrintRosters\n",
    "from sig_groups.optimizer import AlgorithmTM, Params\n",
    "from sig_groups.slack import PostRoster, PostRosterStatus\n",
    "from sig_groups.ride import Ride, Roster, Rosters\n",
    "from sig_groups.config import LoadConfigFile"
   ]
  },
  {
   "cell_type": "markdown",
   "metadata": {
    "id": "p9ZaI92BbZ_g"
   },
   "source": [
    "## Parameters\n",
    "These can be edited if needed."
   ]
  },
  {
   "cell_type": "code",
   "execution_count": null,
   "metadata": {
    "cellView": "form",
    "id": "1alhux9TsRJV"
   },
   "outputs": [],
   "source": [
    "#@title Algorithm Parameters\n",
    "params = Params()\n",
    "\n",
    "params.start_ride = 5#@param {type:\"integer\"}\n",
    "params.finalized_ride = 4#param {type:\"integer\"}\n",
    "\n",
    "# Hard limits on group sizes.\n",
    "params.min_group_size = 4#@param {type:\"integer\"}\n",
    "params.max_group_size = 20#@param {type:\"integer\"}\n",
    "\n",
    "# The maximum number of groups to assign each week.\n",
    "params.max_groups = 8#@param {type:\"integer\"}\n",
    "\n",
    "# Total number of rides in the program.\n",
    "params.num_rides = 10#@param {type:\"integer\"}\n",
    "\n",
    "# Maximum amount of time to run for, in seconds, per-pass.\n",
    "params.time_limit = 10#@param {type:\"integer\"}"
   ]
  },
  {
   "cell_type": "markdown",
   "metadata": {
    "id": "BIH7Eu3byrAX"
   },
   "source": [
    "# Load Data"
   ]
  },
  {
   "cell_type": "code",
   "execution_count": null,
   "metadata": {},
   "outputs": [],
   "source": [
    "config = LoadConfigFile(\"configs/2023.yaml\")\n",
    "rides = [Ride(x) for x in config.Rides()]\n",
    "airtable_client = AirtableClient(config.Airtable(), config.Rides())\n",
    "rider_data = RiderData(airtable_client.LoadLeaders(), airtable_client.LoadParticipants(), []) \n",
    "for m in config.Matches():\n",
    "    rider_data.SetMatchScore(m['r1'], m['r2'], m['score'])     "
   ]
  },
  {
   "cell_type": "code",
   "execution_count": null,
   "metadata": {
    "id": "dDU4Ea2DwVdD"
   },
   "outputs": [],
   "source": [
    "PrintAvailabilityTable(rider_data.AllRiders(), config.NumRides())"
   ]
  },
  {
   "cell_type": "code",
   "execution_count": null,
   "metadata": {
    "id": "dGwBZ7WoWkfv"
   },
   "outputs": [],
   "source": [
    "prior_rosters = airtable_client.GetPriorRosters(rider_data)    "
   ]
  },
  {
   "cell_type": "markdown",
   "metadata": {
    "id": "AGpCFgK-XZFN"
   },
   "source": [
    "# Generate Rosters"
   ]
  },
  {
   "cell_type": "code",
   "execution_count": null,
   "metadata": {
    "id": "A4ZA9439sRJf"
   },
   "outputs": [],
   "source": [
    "alg = AlgorithmTM(rider_data, prior_rosters, params)\n",
    "rosters = alg.Solve()"
   ]
  },
  {
   "cell_type": "code",
   "execution_count": null,
   "metadata": {
    "id": "jd7vIBi-k7-q"
   },
   "outputs": [],
   "source": [
    "PrintRosters(rosters, rider_data)"
   ]
  },
  {
   "cell_type": "code",
   "execution_count": null,
   "metadata": {
    "id": "CeMFExzGtrfK"
   },
   "outputs": [],
   "source": [
    "for r in rosters:\n",
    "  if r.ride == 0:\n",
    "    print(r )"
   ]
  },
  {
   "cell_type": "code",
   "execution_count": null,
   "metadata": {},
   "outputs": [],
   "source": [
    "# map from ride -> pair\n",
    "rides_together_through = defaultdict(lambda: defaultdict(lambda: 0))\n",
    "\n",
    "rides_together = defaultdict(lambda: 0)\n",
    "rides_together_so_far = defaultdict(lambda: 0)\n",
    "match_hist = defaultdict(lambda: 0)\n",
    "        \n",
    "num_rides = config.NumRides()\n",
    "for r in rosters:\n",
    "  seen = set()\n",
    "  for p1 in r.rider_ids:\n",
    "    for p2 in r.rider_ids:\n",
    "      canonical_pair = tuple(sorted((p1,p2)))\n",
    "      if canonical_pair in seen:\n",
    "        continue\n",
    "      seen.add(canonical_pair)\n",
    "      for i in range(r.ride, num_rides):\n",
    "        rides_together_through[i][canonical_pair] += 1\n",
    "      rides_together[(p1, p2)] += 1\n",
    "      if r.ride <= params.start_ride:\n",
    "        rides_together_so_far[(p1, p2)] += 1\n",
    "      match_hist[rider_data.GetMatchScore(p1, p2)] += 1\n",
    "    \n",
    "\n",
    "#for k, v in rides_together_through.items():\n",
    "#    print(k)\n",
    "#    for k2, v2 in v.items():\n",
    "#        print(k2, v2)\n",
    "    \n",
    "people = rider_data.AllRiders()\n",
    "hist = defaultdict(lambda: 0)\n",
    "for p1 in people:\n",
    "  for p2 in people:\n",
    "    canonical_pair = tuple(sorted((p1.id, p2.id)))\n",
    "    if (p1 != p2):\n",
    "      hist[rides_together_through[9][canonical_pair]] += 1\n",
    "\n",
    "plt.bar(hist.keys(), hist.values())"
   ]
  },
  {
   "cell_type": "code",
   "execution_count": null,
   "metadata": {},
   "outputs": [],
   "source": [
    "def PairFrequencyPlot(finalized, ride):\n",
    "    final_pair_matrix = np.zeros(shape=(len(people), len(people)))\n",
    "    modeled_pair_matrix = np.zeros(shape=(len(people), len(people)))\n",
    "    for i, p1 in enumerate(people):\n",
    "      for j, p2 in enumerate(people):\n",
    "        canonical_pair = tuple(sorted((p1.id, p2.id)))\n",
    "        if i < j:\n",
    "            final_pair_matrix[j][i] = rides_together_through[finalized][canonical_pair]\n",
    "        if i <= j:\n",
    "            modeled_pair_matrix[i][j] = rides_together_through[ride][canonical_pair]\n",
    "            modeled_pair_matrix[j][i] = rides_together_through[config.NumRides() - 1][canonical_pair]\n",
    "            \n",
    "           \n",
    "\n",
    "    labels = [p.name for p in people]\n",
    "\n",
    "    maxval = np.max([np.max(final_pair_matrix), np.max(modeled_pair_matrix)])        \n",
    "    fig, (ax1, ax2) = plt.subplots(1,2, figsize=(20,20))\n",
    "    ax1.set_title('Modeled to Finish / Through Ride %d' % (ride + 1))    \n",
    "    ax1.set_xticks(np.arange(0, len(people), 1.0), labels=labels, minor=True, rotation=90, fontsize='x-small')\n",
    "    ax1.set_xticks(np.arange(0, len(people), 1.0), labels=labels, minor=False, rotation=90, fontsize='x-small')\n",
    "    ax1.set_yticks(np.arange(0, len(people), 1.0), labels=labels, minor=True, fontsize='x-small')\n",
    "    ax1.set_yticks(np.arange(0, len(people), 1.0), labels=labels, minor=False, fontsize='x-small')  \n",
    "    ax2.set_xticks(np.arange(0, len(people), 1.0), labels=labels, minor=True, rotation=90, fontsize='x-small')\n",
    "    ax2.set_xticks(np.arange(0, len(people), 1.0), labels=labels, minor=False, rotation=90, fontsize='x-small')\n",
    "\n",
    "    #ax1.set_xticks(range(0, len(people)), labels=labels, minor=False, rotation=90, fontsize='xx-small')\n",
    "\n",
    "    #ax1.set_xticklabels(labels, rotation=90, horizontalalignment='right')\n",
    "    ax1.matshow(modeled_pair_matrix, vmin=0, vmax=maxval, cmap=plt.cm.viridis)\n",
    "    ax2.set_title('Through Ride %d' % (finalized + 1))\n",
    "    ax2.matshow(final_pair_matrix, vmin=0, vmax=maxval, cmap=plt.cm.viridis)\n",
    "    #fig.colorbar(plot2)\n",
    "    if ride <= finalized:\n",
    "        fig.savefig('/tmp/pairings-%d.png' % ride, facecolor='green', transparent=False, bbox_inches='tight')\n",
    "    else:\n",
    "        fig.savefig('/tmp/pairings-%d.png' % ride, facecolor='yellow', transparent=False, bbox_inches='tight')\n",
    "for i in range(0, config.NumRides()):\n",
    "    PairFrequencyPlot(5, i)"
   ]
  },
  {
   "cell_type": "code",
   "execution_count": null,
   "metadata": {},
   "outputs": [],
   "source": [
    "import imageio\n",
    "\n",
    "with imageio.get_writer('mygif.gif', mode='I', fps=2) as writer:\n",
    "    files = ['/tmp/pairings-%d.png' % i for i in range(0, config.NumRides())]\n",
    "    for filename in files:\n",
    "        image = imageio.imread(filename)\n",
    "        writer.append_data(image)"
   ]
  }
 ],
 "metadata": {
  "colab": {
   "collapsed_sections": [
    "Kx_IOzBMbTG2"
   ],
   "name": "Lib Based",
   "private_outputs": true,
   "provenance": []
  },
  "kernelspec": {
   "display_name": "Python 3 (ipykernel)",
   "language": "python",
   "name": "python3"
  },
  "language_info": {
   "codemirror_mode": {
    "name": "ipython",
    "version": 3
   },
   "file_extension": ".py",
   "mimetype": "text/x-python",
   "name": "python",
   "nbconvert_exporter": "python",
   "pygments_lexer": "ipython3",
   "version": "3.10.9"
  }
 },
 "nbformat": 4,
 "nbformat_minor": 1
}

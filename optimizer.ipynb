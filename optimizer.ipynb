{
 "cells": [
  {
   "cell_type": "markdown",
   "metadata": {
    "id": "Kx_IOzBMbTG2"
   },
   "source": [
    "## Setup / Install"
   ]
  },
  {
   "cell_type": "code",
   "execution_count": null,
   "metadata": {
    "id": "AJ3n3DT5sRJQ"
   },
   "outputs": [],
   "source": [
    "import matplotlib.pyplot as plt\n",
    "import pandas as pd\n",
    "import numpy as np\n",
    "from collections import defaultdict"
   ]
  },
  {
   "cell_type": "code",
   "execution_count": null,
   "metadata": {
    "id": "ZYXaph-GbPBb"
   },
   "outputs": [],
   "source": [
    "import sys\n",
    "sys.path.insert(1, '/usr/local/google/home/kmg/')\n",
    "sys.path.insert(1, '/mnt/c/Users/Kevin Graney/SIG Groupings/')\n",
    "\n",
    "from sig_groups.rider import Leader, Participant, RiderData, Match\n",
    "from sig_groups.airtable import LoadLeaders, LoadParticipants, LoadMatches, GetPriorRosters, CreateRoster\n",
    "from sig_groups.formatting import PrintAvailabilityTable, PrintRosters\n",
    "from sig_groups.optimizer import AlgorithmTM, Params\n",
    "from sig_groups.slack import PostRoster, PostRosterStatus\n",
    "from sig_groups.ride import Roster, Rosters\n",
    "\n",
    "#### Remove...\n",
    "import sig_groups\n",
    "import sig_groups.ride\n",
    "import sig_groups.rider\n",
    "import sig_groups.airtable\n",
    "import sig_groups.formatting\n",
    "import sig_groups.optimizer\n",
    "import sig_groups.slack\n",
    "import importlib\n",
    "importlib.reload(sig_groups)\n",
    "importlib.reload(sig_groups.ride)\n",
    "importlib.reload(sig_groups.rider)\n",
    "importlib.reload(sig_groups.airtable)\n",
    "importlib.reload(sig_groups.formatting)\n",
    "importlib.reload(sig_groups.optimizer)\n",
    "importlib.reload(sig_groups.slack)"
   ]
  },
  {
   "cell_type": "markdown",
   "metadata": {
    "id": "p9ZaI92BbZ_g"
   },
   "source": [
    "## Parameters\n",
    "These can be edited if needed."
   ]
  },
  {
   "cell_type": "code",
   "execution_count": null,
   "metadata": {
    "cellView": "form",
    "id": "1alhux9TsRJV"
   },
   "outputs": [],
   "source": [
    "#@title Algorithm Parameters\n",
    "params = Params()\n",
    "\n",
    "params.start_ride = 5#@param {type:\"integer\"}\n",
    "params.finalized_ride = 4#param {type:\"integer\"}\n",
    "\n",
    "# Hard limits on group sizes.\n",
    "params.min_group_size = 4#@param {type:\"integer\"}\n",
    "params.max_group_size = 20#@param {type:\"integer\"}\n",
    "\n",
    "# The maximum number of groups to assign each week.\n",
    "params.max_groups = 8#@param {type:\"integer\"}\n",
    "\n",
    "# Total number of rides in the program.\n",
    "params.num_rides = 10#@param {type:\"integer\"}\n",
    "\n",
    "# Maximum amount of time to run for, in seconds, per-pass.\n",
    "params.time_limit = 60#@param {type:\"integer\"}"
   ]
  },
  {
   "cell_type": "markdown",
   "metadata": {
    "id": "BIH7Eu3byrAX"
   },
   "source": [
    "# Load Data"
   ]
  },
  {
   "cell_type": "code",
   "execution_count": null,
   "metadata": {
    "id": "4ZeD4NU2yEPq"
   },
   "outputs": [],
   "source": [
    "rider_data = RiderData(LoadLeaders(), LoadParticipants(), LoadMatches())"
   ]
  },
  {
   "cell_type": "code",
   "execution_count": null,
   "metadata": {
    "id": "dDU4Ea2DwVdD"
   },
   "outputs": [],
   "source": [
    "PrintAvailabilityTable(rider_data.AllLeaders(), params.num_rides)"
   ]
  },
  {
   "cell_type": "code",
   "execution_count": null,
   "metadata": {
    "id": "dGwBZ7WoWkfv"
   },
   "outputs": [],
   "source": [
    "prior_rosters = GetPriorRosters(rider_data)\n",
    "PrintRosters(prior_rosters)"
   ]
  },
  {
   "cell_type": "markdown",
   "metadata": {
    "id": "AGpCFgK-XZFN"
   },
   "source": [
    "# Generate Rosters"
   ]
  },
  {
   "cell_type": "code",
   "execution_count": null,
   "metadata": {
    "id": "jQ9gYPj8bRjR"
   },
   "outputs": [],
   "source": [
    "from IPython.display import HTML, Javascript, display\n",
    "\n",
    "display(HTML(\"\"\"<div id=\"root\"></div>\"\"\"))\n",
    "\n",
    "display(Javascript(url=\"https://ajax.googleapis.com/ajax/libs/jquery/3.5.1/jquery.min.js\"))\n",
    "\n",
    "display(Javascript('''\n",
    "(async () => {\n",
    "  google.colab.kernel.comms.registerTarget('rosters', (comm, message) => {\n",
    "    $(\"#root\").empty();\n",
    "    var text = '';\n",
    "    for (ride in message.data) {\n",
    "      var ride_div = $(`<div id=\"Ride ${ride}\" style=\"margin-top: 20pt;\"><strong>Ride ${ride}</strong><br /></div>`);\n",
    "      for (group in message.data[ride]) {\n",
    "        var group_div = $(`<span id=\"Group ${group}\" style=\"font-size: 75%; vertical-align: top; display: inline-block; margin-right: 5pt; width: 30ex; border: 1px solid red;\"></span>`);\n",
    "        ride_div.append(group_div);\n",
    "        var ul = group_div.append(`<ul></ul>`)\n",
    "        for (participant of message.data[ride][group]) {\n",
    "          var li = $(`<li>${participant}</li>`)\n",
    "          ul.append(li)\n",
    "        }\n",
    "      }\n",
    "      $(\"#root\").append(ride_div);\n",
    "    }\n",
    "  });\n",
    "})()'''))"
   ]
  },
  {
   "cell_type": "code",
   "execution_count": null,
   "metadata": {
    "id": "A4ZA9439sRJf"
   },
   "outputs": [],
   "source": [
    "alg = AlgorithmTM(rider_data, prior_rosters, params)\n",
    "rosters = alg.Solve()"
   ]
  },
  {
   "cell_type": "code",
   "execution_count": null,
   "metadata": {
    "id": "jd7vIBi-k7-q"
   },
   "outputs": [],
   "source": [
    "PrintRosters(prior_rosters)"
   ]
  },
  {
   "cell_type": "code",
   "execution_count": null,
   "metadata": {
    "id": "gTA1KcR_DyLA"
   },
   "outputs": [],
   "source": [
    "rides_together = defaultdict(lambda: 0)\n",
    "match_hist = defaultdict(lambda: 0)\n",
    "for r in rosters:\n",
    "  for p1 in r.riders:\n",
    "    for p2 in r.riders:\n",
    "      rides_together[(p1.id, p2.id)] += 1\n",
    "      match_hist[rider_data.GetMatchScore(p1.id, p2.id)] += 1\n",
    "\n",
    "people = rider_data.AllFtRiders()\n",
    "seen = set()\n",
    "common_pairings = []\n",
    "hist = defaultdict(lambda: 0)\n",
    "for p1 in people:\n",
    "  for p2 in people:\n",
    "    if (p1 != p2) and ((p2, p1) not in seen):\n",
    "      hist[rides_together[(p1.id, p2.id)]] += 1\n",
    "      common_pairings.append((rides_together[(p1.id, p2.id)], p1.name, p2.name))\n",
    "      seen.add((p1, p2))\n",
    "\n",
    "plt.bar(hist.keys(), hist.values())"
   ]
  },
  {
   "cell_type": "markdown",
   "metadata": {
    "id": "VGpMQNPTeFmo"
   },
   "source": [
    "People that never get to ride together."
   ]
  },
  {
   "cell_type": "code",
   "execution_count": null,
   "metadata": {
    "id": "1GqN1Myj6vIx"
   },
   "outputs": [],
   "source": [
    "for (_, p1, p2) in filter(lambda x: x[0] == 0, common_pairings):\n",
    "  print(\"{: <30} {: >30}\".format(p1, p2))"
   ]
  },
  {
   "cell_type": "markdown",
   "metadata": {
    "id": "eagWvMnJD7pj"
   },
   "source": [
    "People who ride together the most."
   ]
  },
  {
   "cell_type": "code",
   "execution_count": null,
   "metadata": {
    "id": "OI9Q0yhXvwyp"
   },
   "outputs": [],
   "source": [
    "for (n, p1, p2) in sorted(common_pairings, reverse=True)[0:50]:\n",
    "  print(\"{: <30} {: 2} {: >30}\".format(p1, n, p2))"
   ]
  },
  {
   "cell_type": "markdown",
   "metadata": {
    "id": "i_Ms_Hiz5lip"
   },
   "source": [
    "# Upload to Airtable"
   ]
  },
  {
   "cell_type": "code",
   "execution_count": null,
   "metadata": {
    "id": "CeMFExzGtrfK"
   },
   "outputs": [],
   "source": [
    "for r in rosters:\n",
    "  if r.ride == 0:\n",
    "    print(r )"
   ]
  },
  {
   "cell_type": "code",
   "execution_count": null,
   "metadata": {
    "id": "iyuKyFPg5gdM"
   },
   "outputs": [],
   "source": [
    "for r in rosters:\n",
    "  CreateRoster(r)"
   ]
  },
  {
   "cell_type": "code",
   "execution_count": null,
   "metadata": {
    "id": "nqFnw0MfehHY"
   },
   "outputs": [],
   "source": [
    "m = defaultdict(lambda: [])\n",
    "for r in rider_data.AllParticipants():\n",
    "  if r.Invalid():\n",
    "    continue\n",
    "  m[r.mentor].append(r)\n",
    "\n",
    "for (k,v) in m.items():\n",
    "  print(rider_data.Rider(k).name, [x.name for x in v])"
   ]
  },
  {
   "cell_type": "code",
   "execution_count": null,
   "metadata": {
    "id": "4XnSwvJvgSxg"
   },
   "outputs": [],
   "source": [
    "rides_together = defaultdict(lambda: 0)\n",
    "match_hist = defaultdict(lambda: 0)\n",
    "for r in [x for x in rosters if x.ride < 2]:\n",
    "  for p1 in r.riders:\n",
    "    for p2 in r.riders:\n",
    "      rides_together[(p1.id, p2.id)] += 1\n",
    "      match_hist[RIDERS.GetMatchScore(p1.id, p2.id)] += 1\n",
    "\n",
    "people = RIDERS.AllFtRiders()\n",
    "seen = set()\n",
    "common_pairings = []\n",
    "hist = defaultdict(lambda: 0)\n",
    "for p1 in people:\n",
    "  for p2 in people:\n",
    "    if (p1 != p2) and ((p2, p1) not in seen):\n",
    "      hist[rides_together[(p1.id, p2.id)]] += 1\n",
    "      common_pairings.append((rides_together[(p1.id, p2.id)], p1.name, p2.name))\n",
    "      seen.add((p1, p2))\n",
    "\n",
    "plt.bar(hist.keys(), hist.values())\n",
    "for (n, p1, p2) in sorted(common_pairings, reverse=True)[0:50]:\n",
    "  print(\"{: <30} {: 2} {: >30}\".format(p1, n, p2))"
   ]
  },
  {
   "cell_type": "code",
   "execution_count": null,
   "metadata": {
    "id": "PhHljJ53BfcQ"
   },
   "outputs": [],
   "source": [
    "def MentorPair(p1, p2):\n",
    "  if p1.IsLeader() == p2.IsLeader():\n",
    "    return False\n",
    "  if not p1.IsLeader():\n",
    "    return p1.mentor == p2.id\n",
    "  if not p2.IsLeader():\n",
    "    return p2.mentor == p1.id\n",
    "\n",
    "for p1 in people:\n",
    "  for p2 in people:\n",
    "    if MentorPair(p1, p2):\n",
    "      print(p1.name, p2.name)"
   ]
  },
  {
   "cell_type": "markdown",
   "metadata": {
    "id": "ZJRc_10FfTJ7"
   },
   "source": [
    "# Update Slack rosters"
   ]
  },
  {
   "cell_type": "code",
   "execution_count": null,
   "metadata": {
    "id": "dSvL11d4oUk9"
   },
   "outputs": [],
   "source": [
    "rider_data = RiderData(LoadLeaders(), LoadParticipants(), LoadMatches())\n",
    "all_rosters = GetPriorRosters(rider_data)"
   ]
  },
  {
   "cell_type": "code",
   "execution_count": null,
   "metadata": {},
   "outputs": [],
   "source": [
    "PrintRosters(all_rosters)"
   ]
  },
  {
   "cell_type": "code",
   "execution_count": null,
   "metadata": {},
   "outputs": [],
   "source": [
    "rides_together = defaultdict(lambda: 0)\n",
    "rides_together_so_far = defaultdict(lambda: 0)\n",
    "match_hist = defaultdict(lambda: 0)\n",
    "        \n",
    "for r in all_rosters:\n",
    "  for p1 in r.riders:\n",
    "    for p2 in r.riders:\n",
    "      rides_together[(p1.id, p2.id)] += 1\n",
    "      if r.ride <= params.start_ride:\n",
    "        rides_together_so_far[(p1.id, p2.id)] += 1\n",
    "      match_hist[rider_data.GetMatchScore(p1.id, p2.id)] += 1\n",
    "\n",
    "people = rider_data.AllRiders()\n",
    "seen = set()\n",
    "common_pairings = []\n",
    "hist = defaultdict(lambda: 0)\n",
    "for p1 in people:\n",
    "  for p2 in people:\n",
    "    if (p1 != p2) and ((p2, p1) not in seen):\n",
    "      hist[rides_together[(p1.id, p2.id)]] += 1\n",
    "      common_pairings.append((rides_together[(p1.id, p2.id)], p1.name, p2.name))\n",
    "      seen.add((p1, p2))\n",
    "\n",
    "plt.bar(hist.keys(), hist.values())"
   ]
  },
  {
   "cell_type": "code",
   "execution_count": null,
   "metadata": {},
   "outputs": [],
   "source": [
    "final_pair_matrix = np.zeros(shape=(len(people), len(people)))\n",
    "modeled_pair_matrix = np.zeros(shape=(len(people), len(people)))\n",
    "for i, p1 in enumerate(people):\n",
    "  for j, p2 in enumerate(people):\n",
    "    final_pair_matrix[i][j] = rides_together_so_far[(p1.id, p2.id)]\n",
    "    modeled_pair_matrix[i][j] = rides_together[(p1.id, p2.id)]\n",
    "\n",
    "labels = [p.name for p in people]\n",
    "       \n",
    "maxval = np.max([np.max(final_pair_matrix), np.max(modeled_pair_matrix)])        \n",
    "fig, (ax1, ax2) = plt.subplots(1,2, figsize=(20,20))\n",
    "ax1.set_title('Up to this Ride (Ride %d)' % (params.start_ride + 1))\n",
    "ax1.set_xticks(np.arange(0, len(people), 1.0), labels=labels, minor=True, rotation=90, fontsize='x-small')\n",
    "ax1.set_xticks(np.arange(0, len(people), 1.0), labels=labels, minor=False, rotation=90, fontsize='x-small')\n",
    "ax1.set_yticks(np.arange(0, len(people), 1.0), labels=labels, minor=True, fontsize='x-small')\n",
    "ax1.set_yticks(np.arange(0, len(people), 1.0), labels=labels, minor=False, fontsize='x-small')\n",
    "ax2.set_xticks(np.arange(0, len(people), 1.0), labels=labels, minor=True, rotation=90, fontsize='x-small')\n",
    "ax2.set_xticks(np.arange(0, len(people), 1.0), labels=labels, minor=False, rotation=90, fontsize='x-small')\n",
    "for xtick, person in zip(ax1.get_xticklabels(), people):\n",
    "    if not person.IsLeader():\n",
    "        xtick.set_color('r')\n",
    "\n",
    "#ax1.set_xticks(range(0, len(people)), labels=labels, minor=False, rotation=90, fontsize='xx-small')\n",
    "\n",
    "#ax1.set_xticklabels(labels, rotation=90, horizontalalignment='right')\n",
    "ax1.matshow(final_pair_matrix, vmin=0, vmax=maxval, cmap=plt.cm.viridis)\n",
    "ax2.set_title('Modeled to Finish')\n",
    "ax2.matshow(modeled_pair_matrix, vmin=0, vmax=maxval, cmap=plt.cm.viridis)\n",
    "#fig.colorbar(plot2)\n",
    "fig.savefig('/tmp/pairings.png', facecolor='white', transparent=False, bbox_inches='tight')"
   ]
  },
  {
   "cell_type": "code",
   "execution_count": null,
   "metadata": {},
   "outputs": [],
   "source": [
    "PostRosterStatus()"
   ]
  },
  {
   "cell_type": "code",
   "execution_count": null,
   "metadata": {
    "id": "V3RTEpnIoXkA"
   },
   "outputs": [],
   "source": [
    "all_rosters = GetPriorRosters(rider_data)\n",
    "for ride in range(params.start_ride, params.num_rides):\n",
    "  rosters = Rosters(r for r in all_rosters if r.ride == ride)\n",
    "  PostRoster(rosters)"
   ]
  }
 ],
 "metadata": {
  "colab": {
   "collapsed_sections": [
    "Kx_IOzBMbTG2"
   ],
   "name": "Lib Based",
   "private_outputs": true,
   "provenance": []
  },
  "kernelspec": {
   "display_name": "Python 3 (ipykernel)",
   "language": "python",
   "name": "python3"
  },
  "language_info": {
   "codemirror_mode": {
    "name": "ipython",
    "version": 3
   },
   "file_extension": ".py",
   "mimetype": "text/x-python",
   "name": "python",
   "nbconvert_exporter": "python",
   "pygments_lexer": "ipython3",
   "version": "3.10.9"
  }
 },
 "nbformat": 4,
 "nbformat_minor": 1
}

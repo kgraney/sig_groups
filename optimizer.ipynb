{
  "cells": [
    {
      "cell_type": "markdown",
      "metadata": {
        "id": "view-in-github",
        "colab_type": "text"
      },
      "source": [
        "<a href=\"https://colab.research.google.com/github/kgraney/sig_groups/blob/main/optimizer.ipynb\" target=\"_parent\"><img src=\"https://colab.research.google.com/assets/colab-badge.svg\" alt=\"Open In Colab\"/></a>"
      ]
    },
    {
      "cell_type": "markdown",
      "metadata": {
        "id": "Kx_IOzBMbTG2"
      },
      "source": [
        "## Setup / Install"
      ]
    },
    {
      "cell_type": "code",
      "execution_count": null,
      "metadata": {
        "id": "AJ3n3DT5sRJQ"
      },
      "outputs": [],
      "source": [
        "import matplotlib.pyplot as plt\n",
        "import pandas as pd\n",
        "from collections import defaultdict"
      ]
    },
    {
      "cell_type": "code",
      "source": [
        "import sys\n",
        "sys.path.insert(1, '/usr/local/google/homg/kmg/')\n",
        "sys.path.insert(1, '/mnt/c/Users/Kevin Graney/SIG Groupings/')\n",
        "\n",
        "from sig_groups.rider import Leader, Participant, RiderData, Match\n",
        "from sig_groups.airtable import LoadLeaders, LoadParticipants, LoadMatches, GetPriorRosters, CreateRoster\n",
        "from sig_groups.formatting import PrintAvailabilityTable, PrintRosters\n",
        "from sig_groups.optimizer import AlgorithmTM, Params\n",
        "\n",
        "#### Remove...\n",
        "import sig_groups\n",
        "import sig_groups.ride\n",
        "import sig_groups.rider\n",
        "import sig_groups.airtable\n",
        "import sig_groups.formatting\n",
        "import sig_groups.optimizer\n",
        "import importlib\n",
        "importlib.reload(sig_groups)\n",
        "importlib.reload(sig_groups.ride)\n",
        "importlib.reload(sig_groups.rider)\n",
        "importlib.reload(sig_groups.airtable)\n",
        "importlib.reload(sig_groups.formatting)\n",
        "importlib.reload(sig_groups.optimizer)"
      ],
      "metadata": {
        "id": "ZYXaph-GbPBb"
      },
      "execution_count": null,
      "outputs": []
    },
    {
      "cell_type": "markdown",
      "metadata": {
        "id": "p9ZaI92BbZ_g"
      },
      "source": [
        "## Parameters\n",
        "These can be edited if needed."
      ]
    },
    {
      "cell_type": "code",
      "execution_count": null,
      "metadata": {
        "id": "1alhux9TsRJV",
        "cellView": "form"
      },
      "outputs": [],
      "source": [
        "#@title Algorithm Parameters\n",
        "params = Params()\n",
        "\n",
        "params.start_ride = 0#@param {type:\"integer\"}\n",
        "params.finalized_ride = -1#param {type:\"integer\"}\n",
        "\n",
        "# Hard limits on group sizes.\n",
        "params.min_group_size = 4#@param {type:\"integer\"}\n",
        "params.max_group_size = 20#@param {type:\"integer\"}\n",
        "\n",
        "# The maximum number of groups to assign each week.\n",
        "params.max_groups = 8#@param {type:\"integer\"}\n",
        "\n",
        "# Total number of rides in the program.\n",
        "params.num_rides = 10#@param {type:\"integer\"}\n",
        "\n",
        "# Maximum amount of time to run for, in seconds, per-pass.\n",
        "params.time_limit = 90#@param {type:\"integer\"}"
      ]
    },
    {
      "cell_type": "markdown",
      "source": [
        "# Load Data"
      ],
      "metadata": {
        "id": "BIH7Eu3byrAX"
      }
    },
    {
      "cell_type": "code",
      "source": [
        "rider_data = RiderData(LoadLeaders(), LoadParticipants(), LoadMatches())"
      ],
      "metadata": {
        "id": "4ZeD4NU2yEPq"
      },
      "execution_count": null,
      "outputs": []
    },
    {
      "cell_type": "code",
      "source": [
        "PrintAvailabilityTable(rider_data.AllLeaders(), params.num_rides)"
      ],
      "metadata": {
        "id": "dDU4Ea2DwVdD"
      },
      "execution_count": null,
      "outputs": []
    },
    {
      "cell_type": "code",
      "source": [
        "prior_rosters = GetPriorRosters(rider_data)\n",
        "PrintRosters(prior_rosters)"
      ],
      "metadata": {
        "id": "dGwBZ7WoWkfv"
      },
      "execution_count": null,
      "outputs": []
    },
    {
      "cell_type": "markdown",
      "metadata": {
        "id": "AGpCFgK-XZFN"
      },
      "source": [
        "# Generate Rosters"
      ]
    },
    {
      "cell_type": "code",
      "source": [
        "from IPython.display import HTML, Javascript, display\n",
        "\n",
        "display(HTML(\"\"\"<div id=\"root\"></div>\"\"\"))\n",
        "\n",
        "display(Javascript(url=\"https://ajax.googleapis.com/ajax/libs/jquery/3.5.1/jquery.min.js\"))\n",
        "\n",
        "display(Javascript('''\n",
        "(async () => {\n",
        "  google.colab.kernel.comms.registerTarget('rosters', (comm, message) => {\n",
        "    $(\"#root\").empty();\n",
        "    var text = '';\n",
        "    for (ride in message.data) {\n",
        "      var ride_div = $(`<div id=\"Ride ${ride}\" style=\"margin-top: 20pt;\"><strong>Ride ${ride}</strong><br /></div>`);\n",
        "      for (group in message.data[ride]) {\n",
        "        var group_div = $(`<span id=\"Group ${group}\" style=\"font-size: 75%; vertical-align: top; display: inline-block; margin-right: 5pt; width: 30ex; border: 1px solid red;\"></span>`);\n",
        "        ride_div.append(group_div);\n",
        "        var ul = group_div.append(`<ul></ul>`)\n",
        "        for (participant of message.data[ride][group]) {\n",
        "          var li = $(`<li>${participant}</li>`)\n",
        "          ul.append(li)\n",
        "        }\n",
        "      }\n",
        "      $(\"#root\").append(ride_div);\n",
        "    }\n",
        "  });\n",
        "})()'''))"
      ],
      "metadata": {
        "id": "jQ9gYPj8bRjR"
      },
      "execution_count": null,
      "outputs": []
    },
    {
      "cell_type": "code",
      "execution_count": null,
      "metadata": {
        "id": "A4ZA9439sRJf"
      },
      "outputs": [],
      "source": [
        "alg = AlgorithmTM(rider_data, prior_rosters, params)\n",
        "rosters = alg.Solve()"
      ]
    },
    {
      "cell_type": "code",
      "execution_count": null,
      "metadata": {
        "id": "jd7vIBi-k7-q"
      },
      "outputs": [],
      "source": [
        "PrintRosters(rosters)"
      ]
    },
    {
      "cell_type": "code",
      "execution_count": null,
      "metadata": {
        "id": "gTA1KcR_DyLA"
      },
      "outputs": [],
      "source": [
        "rides_together = defaultdict(lambda: 0)\n",
        "match_hist = defaultdict(lambda: 0)\n",
        "for r in rosters:\n",
        "  for p1 in r.riders:\n",
        "    for p2 in r.riders:\n",
        "      rides_together[(p1.id, p2.id)] += 1\n",
        "      match_hist[rider_data.GetMatchScore(p1.id, p2.id)] += 1\n",
        "\n",
        "people = rider_data.AllFtRiders()\n",
        "seen = set()\n",
        "common_pairings = []\n",
        "hist = defaultdict(lambda: 0)\n",
        "for p1 in people:\n",
        "  for p2 in people:\n",
        "    if (p1 != p2) and ((p2, p1) not in seen):\n",
        "      hist[rides_together[(p1.id, p2.id)]] += 1\n",
        "      common_pairings.append((rides_together[(p1.id, p2.id)], p1.name, p2.name))\n",
        "      seen.add((p1, p2))\n",
        "\n",
        "plt.bar(hist.keys(), hist.values())"
      ]
    },
    {
      "cell_type": "markdown",
      "metadata": {
        "id": "VGpMQNPTeFmo"
      },
      "source": [
        "People that never get to ride together."
      ]
    },
    {
      "cell_type": "code",
      "execution_count": null,
      "metadata": {
        "id": "1GqN1Myj6vIx"
      },
      "outputs": [],
      "source": [
        "for (_, p1, p2) in filter(lambda x: x[0] == 0, common_pairings):\n",
        "  print(\"{: <30} {: >30}\".format(p1, p2))"
      ]
    },
    {
      "cell_type": "markdown",
      "source": [
        "People who ride together the most."
      ],
      "metadata": {
        "id": "eagWvMnJD7pj"
      }
    },
    {
      "cell_type": "code",
      "execution_count": null,
      "metadata": {
        "id": "OI9Q0yhXvwyp"
      },
      "outputs": [],
      "source": [
        "for (n, p1, p2) in sorted(common_pairings, reverse=True)[0:50]:\n",
        "  print(\"{: <30} {: 2} {: >30}\".format(p1, n, p2))"
      ]
    },
    {
      "cell_type": "markdown",
      "source": [
        "# Upload to Airtable"
      ],
      "metadata": {
        "id": "i_Ms_Hiz5lip"
      }
    },
    {
      "cell_type": "code",
      "source": [
        "for r in rosters:\n",
        "  if r.ride == 0:\n",
        "    print(r )"
      ],
      "metadata": {
        "id": "CeMFExzGtrfK"
      },
      "execution_count": null,
      "outputs": []
    },
    {
      "cell_type": "code",
      "source": [
        "for r in rosters:\n",
        "  #if r.ride == 0:\n",
        "  CreateRoster(r)"
      ],
      "metadata": {
        "id": "iyuKyFPg5gdM"
      },
      "execution_count": null,
      "outputs": []
    },
    {
      "cell_type": "code",
      "source": [
        "m = defaultdict(lambda: [])\n",
        "for r in rider_data.AllParticipants():\n",
        "  if r.Invalid():\n",
        "    continue\n",
        "  m[r.mentor].append(r)\n",
        "\n",
        "for (k,v) in m.items():\n",
        "  print(rider_data.Rider(k).name, [x.name for x in v])"
      ],
      "metadata": {
        "id": "nqFnw0MfehHY"
      },
      "execution_count": null,
      "outputs": []
    },
    {
      "cell_type": "code",
      "source": [
        "rides_together = defaultdict(lambda: 0)\n",
        "match_hist = defaultdict(lambda: 0)\n",
        "for r in [x for x in rosters if x.ride < 2]:\n",
        "  for p1 in r.riders:\n",
        "    for p2 in r.riders:\n",
        "      rides_together[(p1.id, p2.id)] += 1\n",
        "      match_hist[RIDERS.GetMatchScore(p1.id, p2.id)] += 1\n",
        "\n",
        "people = RIDERS.AllFtRiders()\n",
        "seen = set()\n",
        "common_pairings = []\n",
        "hist = defaultdict(lambda: 0)\n",
        "for p1 in people:\n",
        "  for p2 in people:\n",
        "    if (p1 != p2) and ((p2, p1) not in seen):\n",
        "      hist[rides_together[(p1.id, p2.id)]] += 1\n",
        "      common_pairings.append((rides_together[(p1.id, p2.id)], p1.name, p2.name))\n",
        "      seen.add((p1, p2))\n",
        "\n",
        "plt.bar(hist.keys(), hist.values())\n",
        "for (n, p1, p2) in sorted(common_pairings, reverse=True)[0:50]:\n",
        "  print(\"{: <30} {: 2} {: >30}\".format(p1, n, p2))"
      ],
      "metadata": {
        "id": "4XnSwvJvgSxg"
      },
      "execution_count": null,
      "outputs": []
    },
    {
      "cell_type": "code",
      "source": [
        "def MentorPair(p1, p2):\n",
        "  if p1.IsLeader() == p2.IsLeader():\n",
        "    return False\n",
        "  if not p1.IsLeader():\n",
        "    return p1.mentor == p2.id\n",
        "  if not p2.IsLeader():\n",
        "    return p2.mentor == p1.id\n",
        "\n",
        "for p1 in people:\n",
        "  for p2 in people:\n",
        "    if MentorPair(p1, p2):\n",
        "      print(p1.name, p2.name)"
      ],
      "metadata": {
        "id": "PhHljJ53BfcQ"
      },
      "execution_count": null,
      "outputs": []
    },
    {
      "cell_type": "code",
      "source": [
        "rider_data2 = RiderData(LoadLeaders(), LoadParticipants(), LoadMatches())"
      ],
      "metadata": {
        "id": "dSvL11d4oUk9"
      },
      "execution_count": null,
      "outputs": []
    },
    {
      "cell_type": "code",
      "source": [
        "rosters = GetPriorRosters(rider_data2)\n",
        "PrintRosters(rosters)"
      ],
      "metadata": {
        "id": "V3RTEpnIoXkA"
      },
      "execution_count": null,
      "outputs": []
    }
  ],
  "metadata": {
    "colab": {
      "collapsed_sections": [
        "Kx_IOzBMbTG2"
      ],
      "name": "Lib Based",
      "provenance": [],
      "private_outputs": true,
      "include_colab_link": true
    },
    "kernelspec": {
      "display_name": "Python 3",
      "language": "python",
      "name": "python3"
    },
    "language_info": {
      "codemirror_mode": {
        "name": "ipython",
        "version": 3
      },
      "file_extension": ".py",
      "mimetype": "text/x-python",
      "name": "python",
      "nbconvert_exporter": "python",
      "pygments_lexer": "ipython3",
      "version": "3.8.10"
    }
  },
  "nbformat": 4,
  "nbformat_minor": 0
}
